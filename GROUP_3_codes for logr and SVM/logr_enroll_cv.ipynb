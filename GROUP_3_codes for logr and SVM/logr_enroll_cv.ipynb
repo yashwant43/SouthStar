{
 "cells": [
  {
   "cell_type": "code",
   "execution_count": 794,
   "metadata": {},
   "outputs": [],
   "source": [
    "import os\n",
    "import pandas as pd\n",
    "import numpy as np\n",
    "import matplotlib.pyplot as plt\n",
    "import seaborn as sns\n",
    "from sklearn.model_selection import train_test_split\n",
    "from sklearn.model_selection import cross_val_score\n",
    "from sklearn.model_selection import TimeSeriesSplit\n",
    "from sklearn.linear_model import LogisticRegression\n",
    "from sklearn.linear_model import Lasso, Ridge\n",
    "from sklearn.metrics import f1_score,accuracy_score,confusion_matrix"
   ]
  },
  {
   "cell_type": "code",
   "execution_count": 795,
   "metadata": {},
   "outputs": [],
   "source": [
    "os.chdir(\"C:/Users/admin/Desktop/Spring GRA/newdata\")"
   ]
  },
  {
   "cell_type": "code",
   "execution_count": 796,
   "metadata": {},
   "outputs": [],
   "source": [
    "df=pd.read_excel(\"Call Center Data Framework GSU Clean.xlsx\",sheet_name='Master')"
   ]
  },
  {
   "cell_type": "code",
   "execution_count": 797,
   "metadata": {},
   "outputs": [
    {
     "data": {
      "text/plain": [
       "(76, 68)"
      ]
     },
     "execution_count": 797,
     "metadata": {},
     "output_type": "execute_result"
    }
   ],
   "source": [
    "df.shape"
   ]
  },
  {
   "cell_type": "code",
   "execution_count": 798,
   "metadata": {},
   "outputs": [
    {
     "data": {
      "text/plain": [
       "Forecast Month                                                                  0\n",
       "Model Run Month                                                                 0\n",
       "Contract Expiration Month 1                                                     0\n",
       "Contract Expiration Month 2                                                     0\n",
       "Enrollments (Call Volume)                                                       3\n",
       "                                                                               ..\n",
       "Expected Enrollment Rate (EER) - Fixed Roll-Off (1 Month Carryover)             0\n",
       "Expected Enrollment Rate (EER) - Existing Customer Email (1 Month New)          0\n",
       "Expected Enrollment Rate (EER) - Existing Customer Email (1 Month Carryover)    0\n",
       "Expected Enrollment Rate (EER) - Blend & Extend (1 Month New)                   0\n",
       "Expected Enrollment Rate (EER) - Blend & Extend (1 Month Carryover)             0\n",
       "Length: 68, dtype: int64"
      ]
     },
     "execution_count": 798,
     "metadata": {},
     "output_type": "execute_result"
    }
   ],
   "source": [
    "df.isnull().sum()"
   ]
  },
  {
   "cell_type": "code",
   "execution_count": 799,
   "metadata": {},
   "outputs": [
    {
     "data": {
      "text/plain": [
       "13700.630136986301"
      ]
     },
     "execution_count": 799,
     "metadata": {},
     "output_type": "execute_result"
    }
   ],
   "source": [
    "Threshold = np.mean(df['Enrollments (Call Volume)'])\n",
    "Threshold"
   ]
  },
  {
   "cell_type": "code",
   "execution_count": 800,
   "metadata": {},
   "outputs": [
    {
     "data": {
      "text/html": [
       "<div>\n",
       "<style scoped>\n",
       "    .dataframe tbody tr th:only-of-type {\n",
       "        vertical-align: middle;\n",
       "    }\n",
       "\n",
       "    .dataframe tbody tr th {\n",
       "        vertical-align: top;\n",
       "    }\n",
       "\n",
       "    .dataframe thead th {\n",
       "        text-align: right;\n",
       "    }\n",
       "</style>\n",
       "<table border=\"1\" class=\"dataframe\">\n",
       "  <thead>\n",
       "    <tr style=\"text-align: right;\">\n",
       "      <th></th>\n",
       "      <th>Forecast Month</th>\n",
       "      <th>Model Run Month</th>\n",
       "      <th>Contract Expiration Month 1</th>\n",
       "      <th>Contract Expiration Month 2</th>\n",
       "      <th>Enrollments (Call Volume)</th>\n",
       "      <th>Enrollments (Average Handling Time)</th>\n",
       "      <th>Escalations (Call Volume)</th>\n",
       "      <th>Escalations (Average Handling Time)</th>\n",
       "      <th>Other (Call Volume)</th>\n",
       "      <th>Other (Average Handling Time)</th>\n",
       "      <th>...</th>\n",
       "      <th>Expected Enrollment Rate (EER) - Saveback (1 Month Carryover)</th>\n",
       "      <th>Expected Enrollment Rate (EER) - Convert &amp; Extend (1 Month New)</th>\n",
       "      <th>Expected Enrollment Rate (EER) - Convert &amp; Extend (1 Month Carryover)</th>\n",
       "      <th>Expected Enrollment Rate (EER) - Fixed Roll-Off (1 Month New)</th>\n",
       "      <th>Expected Enrollment Rate (EER) - Fixed Roll-Off (1 Month Carryover)</th>\n",
       "      <th>Expected Enrollment Rate (EER) - Existing Customer Email (1 Month New)</th>\n",
       "      <th>Expected Enrollment Rate (EER) - Existing Customer Email (1 Month Carryover)</th>\n",
       "      <th>Expected Enrollment Rate (EER) - Blend &amp; Extend (1 Month New)</th>\n",
       "      <th>Expected Enrollment Rate (EER) - Blend &amp; Extend (1 Month Carryover)</th>\n",
       "      <th>Target</th>\n",
       "    </tr>\n",
       "  </thead>\n",
       "  <tbody>\n",
       "    <tr>\n",
       "      <th>0</th>\n",
       "      <td>2017-01-01</td>\n",
       "      <td>2016-11-01</td>\n",
       "      <td>2017-02-01</td>\n",
       "      <td>2017-03-01</td>\n",
       "      <td>9131.0</td>\n",
       "      <td>599.0</td>\n",
       "      <td>456.0</td>\n",
       "      <td>622.0</td>\n",
       "      <td>84566.0</td>\n",
       "      <td>435.0</td>\n",
       "      <td>...</td>\n",
       "      <td>0.0</td>\n",
       "      <td>0.01</td>\n",
       "      <td>0.00</td>\n",
       "      <td>0.1</td>\n",
       "      <td>0.0</td>\n",
       "      <td>0.03</td>\n",
       "      <td>0.00</td>\n",
       "      <td>0.0</td>\n",
       "      <td>0.0</td>\n",
       "      <td>0</td>\n",
       "    </tr>\n",
       "    <tr>\n",
       "      <th>1</th>\n",
       "      <td>2017-02-01</td>\n",
       "      <td>2016-12-01</td>\n",
       "      <td>2017-03-01</td>\n",
       "      <td>2017-04-01</td>\n",
       "      <td>8639.0</td>\n",
       "      <td>615.0</td>\n",
       "      <td>528.0</td>\n",
       "      <td>589.0</td>\n",
       "      <td>78274.0</td>\n",
       "      <td>422.0</td>\n",
       "      <td>...</td>\n",
       "      <td>0.0</td>\n",
       "      <td>0.01</td>\n",
       "      <td>0.01</td>\n",
       "      <td>0.1</td>\n",
       "      <td>0.1</td>\n",
       "      <td>0.03</td>\n",
       "      <td>0.03</td>\n",
       "      <td>0.0</td>\n",
       "      <td>0.0</td>\n",
       "      <td>0</td>\n",
       "    </tr>\n",
       "    <tr>\n",
       "      <th>2</th>\n",
       "      <td>2017-03-01</td>\n",
       "      <td>2017-01-01</td>\n",
       "      <td>2017-04-01</td>\n",
       "      <td>2017-05-01</td>\n",
       "      <td>9374.0</td>\n",
       "      <td>615.0</td>\n",
       "      <td>612.0</td>\n",
       "      <td>577.0</td>\n",
       "      <td>84834.0</td>\n",
       "      <td>416.0</td>\n",
       "      <td>...</td>\n",
       "      <td>0.0</td>\n",
       "      <td>0.01</td>\n",
       "      <td>0.01</td>\n",
       "      <td>0.1</td>\n",
       "      <td>0.1</td>\n",
       "      <td>0.03</td>\n",
       "      <td>0.03</td>\n",
       "      <td>0.0</td>\n",
       "      <td>0.0</td>\n",
       "      <td>0</td>\n",
       "    </tr>\n",
       "    <tr>\n",
       "      <th>3</th>\n",
       "      <td>2017-04-01</td>\n",
       "      <td>2017-02-01</td>\n",
       "      <td>2017-05-01</td>\n",
       "      <td>2017-06-01</td>\n",
       "      <td>6005.0</td>\n",
       "      <td>634.0</td>\n",
       "      <td>427.0</td>\n",
       "      <td>551.0</td>\n",
       "      <td>68185.0</td>\n",
       "      <td>423.0</td>\n",
       "      <td>...</td>\n",
       "      <td>0.0</td>\n",
       "      <td>0.01</td>\n",
       "      <td>0.01</td>\n",
       "      <td>0.1</td>\n",
       "      <td>0.1</td>\n",
       "      <td>0.03</td>\n",
       "      <td>0.03</td>\n",
       "      <td>0.0</td>\n",
       "      <td>0.0</td>\n",
       "      <td>0</td>\n",
       "    </tr>\n",
       "    <tr>\n",
       "      <th>4</th>\n",
       "      <td>2017-05-01</td>\n",
       "      <td>2017-03-01</td>\n",
       "      <td>2017-06-01</td>\n",
       "      <td>2017-07-01</td>\n",
       "      <td>7245.0</td>\n",
       "      <td>626.0</td>\n",
       "      <td>439.0</td>\n",
       "      <td>599.0</td>\n",
       "      <td>72970.0</td>\n",
       "      <td>415.0</td>\n",
       "      <td>...</td>\n",
       "      <td>0.0</td>\n",
       "      <td>0.01</td>\n",
       "      <td>0.01</td>\n",
       "      <td>0.1</td>\n",
       "      <td>0.1</td>\n",
       "      <td>0.03</td>\n",
       "      <td>0.03</td>\n",
       "      <td>0.0</td>\n",
       "      <td>0.0</td>\n",
       "      <td>0</td>\n",
       "    </tr>\n",
       "  </tbody>\n",
       "</table>\n",
       "<p>5 rows × 69 columns</p>\n",
       "</div>"
      ],
      "text/plain": [
       "  Forecast Month Model Run Month Contract Expiration Month 1  \\\n",
       "0     2017-01-01      2016-11-01                  2017-02-01   \n",
       "1     2017-02-01      2016-12-01                  2017-03-01   \n",
       "2     2017-03-01      2017-01-01                  2017-04-01   \n",
       "3     2017-04-01      2017-02-01                  2017-05-01   \n",
       "4     2017-05-01      2017-03-01                  2017-06-01   \n",
       "\n",
       "  Contract Expiration Month 2  Enrollments (Call Volume)  \\\n",
       "0                  2017-03-01                     9131.0   \n",
       "1                  2017-04-01                     8639.0   \n",
       "2                  2017-05-01                     9374.0   \n",
       "3                  2017-06-01                     6005.0   \n",
       "4                  2017-07-01                     7245.0   \n",
       "\n",
       "   Enrollments (Average Handling Time)  Escalations (Call Volume)  \\\n",
       "0                                599.0                      456.0   \n",
       "1                                615.0                      528.0   \n",
       "2                                615.0                      612.0   \n",
       "3                                634.0                      427.0   \n",
       "4                                626.0                      439.0   \n",
       "\n",
       "   Escalations (Average Handling Time)  Other (Call Volume)  \\\n",
       "0                                622.0              84566.0   \n",
       "1                                589.0              78274.0   \n",
       "2                                577.0              84834.0   \n",
       "3                                551.0              68185.0   \n",
       "4                                599.0              72970.0   \n",
       "\n",
       "   Other (Average Handling Time)  ...  \\\n",
       "0                          435.0  ...   \n",
       "1                          422.0  ...   \n",
       "2                          416.0  ...   \n",
       "3                          423.0  ...   \n",
       "4                          415.0  ...   \n",
       "\n",
       "   Expected Enrollment Rate (EER) - Saveback (1 Month Carryover)  \\\n",
       "0                                                0.0               \n",
       "1                                                0.0               \n",
       "2                                                0.0               \n",
       "3                                                0.0               \n",
       "4                                                0.0               \n",
       "\n",
       "   Expected Enrollment Rate (EER) - Convert & Extend (1 Month New)  \\\n",
       "0                                               0.01                 \n",
       "1                                               0.01                 \n",
       "2                                               0.01                 \n",
       "3                                               0.01                 \n",
       "4                                               0.01                 \n",
       "\n",
       "   Expected Enrollment Rate (EER) - Convert & Extend (1 Month Carryover)  \\\n",
       "0                                               0.00                       \n",
       "1                                               0.01                       \n",
       "2                                               0.01                       \n",
       "3                                               0.01                       \n",
       "4                                               0.01                       \n",
       "\n",
       "   Expected Enrollment Rate (EER) - Fixed Roll-Off (1 Month New)  \\\n",
       "0                                                0.1               \n",
       "1                                                0.1               \n",
       "2                                                0.1               \n",
       "3                                                0.1               \n",
       "4                                                0.1               \n",
       "\n",
       "   Expected Enrollment Rate (EER) - Fixed Roll-Off (1 Month Carryover)  \\\n",
       "0                                                0.0                     \n",
       "1                                                0.1                     \n",
       "2                                                0.1                     \n",
       "3                                                0.1                     \n",
       "4                                                0.1                     \n",
       "\n",
       "   Expected Enrollment Rate (EER) - Existing Customer Email (1 Month New)  \\\n",
       "0                                               0.03                        \n",
       "1                                               0.03                        \n",
       "2                                               0.03                        \n",
       "3                                               0.03                        \n",
       "4                                               0.03                        \n",
       "\n",
       "   Expected Enrollment Rate (EER) - Existing Customer Email (1 Month Carryover)  \\\n",
       "0                                               0.00                              \n",
       "1                                               0.03                              \n",
       "2                                               0.03                              \n",
       "3                                               0.03                              \n",
       "4                                               0.03                              \n",
       "\n",
       "   Expected Enrollment Rate (EER) - Blend & Extend (1 Month New)  \\\n",
       "0                                                0.0               \n",
       "1                                                0.0               \n",
       "2                                                0.0               \n",
       "3                                                0.0               \n",
       "4                                                0.0               \n",
       "\n",
       "   Expected Enrollment Rate (EER) - Blend & Extend (1 Month Carryover) Target  \n",
       "0                                                0.0                        0  \n",
       "1                                                0.0                        0  \n",
       "2                                                0.0                        0  \n",
       "3                                                0.0                        0  \n",
       "4                                                0.0                        0  \n",
       "\n",
       "[5 rows x 69 columns]"
      ]
     },
     "execution_count": 800,
     "metadata": {},
     "output_type": "execute_result"
    }
   ],
   "source": [
    "df['Target'] = np.where(df['Enrollments (Call Volume)']>Threshold,1,0)\n",
    "df.head()"
   ]
  },
  {
   "cell_type": "code",
   "execution_count": 801,
   "metadata": {},
   "outputs": [
    {
     "data": {
      "text/plain": [
       "(73, 59)"
      ]
     },
     "execution_count": 801,
     "metadata": {},
     "output_type": "execute_result"
    }
   ],
   "source": [
    "df.drop(columns = ['Enrollments (Call Volume)','Enrollments (Average Handling Time)','Escalations (Call Volume)','Escalations (Average Handling Time)',\n",
    "                  'Other (Call Volume)','Other (Average Handling Time)','Spanish (Call Volume)','Spanish (Average Handling Time)','Expected Enrollment Rate (EER) - Blend & Extend (1 Month New)','Expected Enrollment Rate (EER) - Blend & Extend (1 Month Carryover)'],inplace = True)\n",
    "df.dropna(inplace = True)\n",
    "df.shape"
   ]
  },
  {
   "cell_type": "code",
   "execution_count": 802,
   "metadata": {},
   "outputs": [],
   "source": [
    "df['Forecast_year'] = pd.to_datetime(df['Forecast Month']).dt.year\n",
    "df['Forecast_month'] = pd.to_datetime(df['Forecast Month']).dt.month\n",
    "df['Contract Expiration Month 1_year'] = pd.to_datetime(df['Contract Expiration Month 1']).dt.year\n",
    "df['Contract Expiration Month 1_month'] = pd.to_datetime(df['Contract Expiration Month 1']).dt.month\n",
    "df['Contract Expiration Month 2_year'] = pd.to_datetime(df['Contract Expiration Month 2']).dt.year\n",
    "df['Contract Expiration Month 2_month'] = pd.to_datetime(df['Contract Expiration Month 2']).dt.month"
   ]
  },
  {
   "cell_type": "code",
   "execution_count": 803,
   "metadata": {},
   "outputs": [],
   "source": [
    "cyclic_features = ['Forecast_year','Forecast_month','Contract Expiration Month 1_year','Contract Expiration Month 1_month',\n",
    "                   'Contract Expiration Month 2_year','Contract Expiration Month 2_month']\n",
    "for col in cyclic_features:\n",
    "    max_value = df[col].max()\n",
    "    df[col+'_sin'] = np.sin(df[col] * (2 * np.pi / max_value))\n",
    "    df[col+'_cos'] = np.cos(df[col] * (2 * np.pi / max_value))"
   ]
  },
  {
   "cell_type": "code",
   "execution_count": 804,
   "metadata": {},
   "outputs": [
    {
     "data": {
      "text/plain": [
       "(73, 72)"
      ]
     },
     "execution_count": 804,
     "metadata": {},
     "output_type": "execute_result"
    }
   ],
   "source": [
    "df.drop(columns = ['Contract Expiration Month 1','Contract Expiration Month 2','NYMEX Settlement Date','Forecast Month','Model Run Month'],inplace = True)\n",
    "df.shape"
   ]
  },
  {
   "cell_type": "code",
   "execution_count": 805,
   "metadata": {},
   "outputs": [],
   "source": [
    "# Split the data into features and target\n",
    "X = df.copy()\n",
    "X.drop(['Target'],axis = 1,inplace = True)\n",
    "y = df['Target']"
   ]
  },
  {
   "cell_type": "code",
   "execution_count": 806,
   "metadata": {},
   "outputs": [
    {
     "data": {
      "text/plain": [
       "(73, 71)"
      ]
     },
     "execution_count": 806,
     "metadata": {},
     "output_type": "execute_result"
    }
   ],
   "source": [
    "X.shape"
   ]
  },
  {
   "cell_type": "code",
   "execution_count": 807,
   "metadata": {},
   "outputs": [
    {
     "name": "stdout",
     "output_type": "stream",
     "text": [
      "(58, 71) (15, 71) (58,) (15,)\n"
     ]
    }
   ],
   "source": [
    "tss = TimeSeriesSplit(n_splits = 4,test_size=15)\n",
    "for train_index, test_index in tss.split(X):\n",
    "    X_train, X_test = X.iloc[train_index, :], X.iloc[test_index,:]\n",
    "    y_train, y_test = y.iloc[train_index], y.iloc[test_index]\n",
    "print(X_train.shape, X_test.shape, y_train.shape, y_test.shape)"
   ]
  },
  {
   "cell_type": "code",
   "execution_count": 808,
   "metadata": {},
   "outputs": [
    {
     "name": "stdout",
     "output_type": "stream",
     "text": [
      "Accuracy: 0.7333333333333333\n"
     ]
    },
    {
     "data": {
      "image/png": "[encoded data removed]",
      "text/plain": [
       "<Figure size 432x288 with 2 Axes>"
      ]
     },
     "metadata": {
      "needs_background": "light"
     },
     "output_type": "display_data"
    }
   ],
   "source": [
    "lr = LogisticRegression(solver='liblinear',penalty='l2',random_state=0)\n",
    "lr.fit(X_train, y_train)\n",
    "# Predict the test data\n",
    "y_pred = lr.predict(X_test)\n",
    "\n",
    "# Create a confusion matrix\n",
    "cm = confusion_matrix(y_test, y_pred)\n",
    "sns.heatmap(cm, annot=True)\n",
    "\n",
    "\n",
    "\n",
    "# Calculate the accuracy\n",
    "accuracy = accuracy_score(y_test, y_pred)\n",
    "print(\"Accuracy:\", accuracy)"
   ]
  },
  {
   "cell_type": "code",
   "execution_count": 809,
   "metadata": {},
   "outputs": [
    {
     "name": "stdout",
     "output_type": "stream",
     "text": [
      "[1 0 1 1 0 0 0 0 0 0 0 1 0 0 0]\n"
     ]
    }
   ],
   "source": [
    "print(y_pred)"
   ]
  },
  {
   "cell_type": "code",
   "execution_count": 810,
   "metadata": {},
   "outputs": [],
   "source": [
    "## Standardization\n",
    "from sklearn.preprocessing import StandardScaler\n",
    "scaler=StandardScaler()\n",
    "scaler.fit(X)\n",
    "scaled_data=scaler.transform(X)"
   ]
  },
  {
   "cell_type": "code",
   "execution_count": 811,
   "metadata": {},
   "outputs": [],
   "source": [
    "##  Applying PCA Algorithms\n",
    "from sklearn.decomposition import PCA"
   ]
  },
  {
   "cell_type": "code",
   "execution_count": 812,
   "metadata": {},
   "outputs": [],
   "source": [
    "pca=PCA(0.95)"
   ]
  },
  {
   "cell_type": "code",
   "execution_count": 813,
   "metadata": {},
   "outputs": [],
   "source": [
    "data_pca=pca.fit_transform(scaled_data)"
   ]
  },
  {
   "cell_type": "code",
   "execution_count": 814,
   "metadata": {},
   "outputs": [
    {
     "data": {
      "text/plain": [
       "19"
      ]
     },
     "execution_count": 814,
     "metadata": {},
     "output_type": "execute_result"
    }
   ],
   "source": [
    "pca.explained_variance_ratio_\n",
    "pca.n_components_"
   ]
  },
  {
   "cell_type": "code",
   "execution_count": 815,
   "metadata": {},
   "outputs": [
    {
     "data": {
      "text/html": [
       "<div>\n",
       "<style scoped>\n",
       "    .dataframe tbody tr th:only-of-type {\n",
       "        vertical-align: middle;\n",
       "    }\n",
       "\n",
       "    .dataframe tbody tr th {\n",
       "        vertical-align: top;\n",
       "    }\n",
       "\n",
       "    .dataframe thead th {\n",
       "        text-align: right;\n",
       "    }\n",
       "</style>\n",
       "<table border=\"1\" class=\"dataframe\">\n",
       "  <thead>\n",
       "    <tr style=\"text-align: right;\">\n",
       "      <th></th>\n",
       "      <th>0</th>\n",
       "      <th>1</th>\n",
       "      <th>2</th>\n",
       "      <th>3</th>\n",
       "      <th>4</th>\n",
       "      <th>5</th>\n",
       "      <th>6</th>\n",
       "      <th>7</th>\n",
       "      <th>8</th>\n",
       "      <th>9</th>\n",
       "      <th>10</th>\n",
       "      <th>11</th>\n",
       "      <th>12</th>\n",
       "      <th>13</th>\n",
       "      <th>14</th>\n",
       "      <th>15</th>\n",
       "      <th>16</th>\n",
       "      <th>17</th>\n",
       "      <th>18</th>\n",
       "    </tr>\n",
       "  </thead>\n",
       "  <tbody>\n",
       "    <tr>\n",
       "      <th>0</th>\n",
       "      <td>-6.550017</td>\n",
       "      <td>3.594754</td>\n",
       "      <td>-0.552372</td>\n",
       "      <td>-3.677215</td>\n",
       "      <td>-0.207550</td>\n",
       "      <td>2.865464</td>\n",
       "      <td>6.933186</td>\n",
       "      <td>3.562052</td>\n",
       "      <td>-0.203644</td>\n",
       "      <td>1.416909</td>\n",
       "      <td>0.029064</td>\n",
       "      <td>0.023473</td>\n",
       "      <td>1.171257</td>\n",
       "      <td>1.901073</td>\n",
       "      <td>-1.294911</td>\n",
       "      <td>-1.421406</td>\n",
       "      <td>2.404549</td>\n",
       "      <td>-0.732899</td>\n",
       "      <td>0.010212</td>\n",
       "    </tr>\n",
       "    <tr>\n",
       "      <th>1</th>\n",
       "      <td>-6.298609</td>\n",
       "      <td>3.197927</td>\n",
       "      <td>-1.286735</td>\n",
       "      <td>-2.067683</td>\n",
       "      <td>-1.630875</td>\n",
       "      <td>-1.209238</td>\n",
       "      <td>1.396535</td>\n",
       "      <td>-0.663300</td>\n",
       "      <td>0.502080</td>\n",
       "      <td>-0.186098</td>\n",
       "      <td>-1.501600</td>\n",
       "      <td>-0.487686</td>\n",
       "      <td>-0.675057</td>\n",
       "      <td>-0.291229</td>\n",
       "      <td>-0.705473</td>\n",
       "      <td>-0.508921</td>\n",
       "      <td>-0.814520</td>\n",
       "      <td>-0.805889</td>\n",
       "      <td>0.924186</td>\n",
       "    </tr>\n",
       "    <tr>\n",
       "      <th>2</th>\n",
       "      <td>-6.141108</td>\n",
       "      <td>2.115446</td>\n",
       "      <td>-2.082964</td>\n",
       "      <td>-2.887818</td>\n",
       "      <td>-1.965207</td>\n",
       "      <td>-0.876642</td>\n",
       "      <td>0.490588</td>\n",
       "      <td>-1.299068</td>\n",
       "      <td>-0.383924</td>\n",
       "      <td>-0.656187</td>\n",
       "      <td>-1.412817</td>\n",
       "      <td>0.060250</td>\n",
       "      <td>-0.237671</td>\n",
       "      <td>-0.111754</td>\n",
       "      <td>0.213175</td>\n",
       "      <td>-0.336970</td>\n",
       "      <td>-0.977918</td>\n",
       "      <td>-0.990936</td>\n",
       "      <td>0.612422</td>\n",
       "    </tr>\n",
       "    <tr>\n",
       "      <th>3</th>\n",
       "      <td>-6.553080</td>\n",
       "      <td>-0.119080</td>\n",
       "      <td>-2.285568</td>\n",
       "      <td>-3.116231</td>\n",
       "      <td>-1.580011</td>\n",
       "      <td>-0.495003</td>\n",
       "      <td>0.339689</td>\n",
       "      <td>-1.116772</td>\n",
       "      <td>-0.728035</td>\n",
       "      <td>-1.634044</td>\n",
       "      <td>-0.247652</td>\n",
       "      <td>0.531329</td>\n",
       "      <td>0.626253</td>\n",
       "      <td>-0.365855</td>\n",
       "      <td>0.281608</td>\n",
       "      <td>-0.001811</td>\n",
       "      <td>-0.092249</td>\n",
       "      <td>-0.137583</td>\n",
       "      <td>0.499616</td>\n",
       "    </tr>\n",
       "    <tr>\n",
       "      <th>4</th>\n",
       "      <td>-6.987731</td>\n",
       "      <td>-1.395707</td>\n",
       "      <td>-1.691994</td>\n",
       "      <td>-2.759889</td>\n",
       "      <td>-1.609407</td>\n",
       "      <td>-0.457991</td>\n",
       "      <td>0.476115</td>\n",
       "      <td>-1.042347</td>\n",
       "      <td>-0.461767</td>\n",
       "      <td>-1.878109</td>\n",
       "      <td>0.188883</td>\n",
       "      <td>0.899418</td>\n",
       "      <td>0.118420</td>\n",
       "      <td>-0.024766</td>\n",
       "      <td>0.210405</td>\n",
       "      <td>0.355135</td>\n",
       "      <td>0.347846</td>\n",
       "      <td>-0.353897</td>\n",
       "      <td>0.120726</td>\n",
       "    </tr>\n",
       "  </tbody>\n",
       "</table>\n",
       "</div>"
      ],
      "text/plain": [
       "         0         1         2         3         4         5         6   \\\n",
       "0 -6.550017  3.594754 -0.552372 -3.677215 -0.207550  2.865464  6.933186   \n",
       "1 -6.298609  3.197927 -1.286735 -2.067683 -1.630875 -1.209238  1.396535   \n",
       "2 -6.141108  2.115446 -2.082964 -2.887818 -1.965207 -0.876642  0.490588   \n",
       "3 -6.553080 -0.119080 -2.285568 -3.116231 -1.580011 -0.495003  0.339689   \n",
       "4 -6.987731 -1.395707 -1.691994 -2.759889 -1.609407 -0.457991  0.476115   \n",
       "\n",
       "         7         8         9         10        11        12        13  \\\n",
       "0  3.562052 -0.203644  1.416909  0.029064  0.023473  1.171257  1.901073   \n",
       "1 -0.663300  0.502080 -0.186098 -1.501600 -0.487686 -0.675057 -0.291229   \n",
       "2 -1.299068 -0.383924 -0.656187 -1.412817  0.060250 -0.237671 -0.111754   \n",
       "3 -1.116772 -0.728035 -1.634044 -0.247652  0.531329  0.626253 -0.365855   \n",
       "4 -1.042347 -0.461767 -1.878109  0.188883  0.899418  0.118420 -0.024766   \n",
       "\n",
       "         14        15        16        17        18  \n",
       "0 -1.294911 -1.421406  2.404549 -0.732899  0.010212  \n",
       "1 -0.705473 -0.508921 -0.814520 -0.805889  0.924186  \n",
       "2  0.213175 -0.336970 -0.977918 -0.990936  0.612422  \n",
       "3  0.281608 -0.001811 -0.092249 -0.137583  0.499616  \n",
       "4  0.210405  0.355135  0.347846 -0.353897  0.120726  "
      ]
     },
     "execution_count": 815,
     "metadata": {},
     "output_type": "execute_result"
    }
   ],
   "source": [
    "data_pca=pd.DataFrame(data_pca)\n",
    "data_pca.head()"
   ]
  },
  {
   "cell_type": "code",
   "execution_count": 816,
   "metadata": {},
   "outputs": [
    {
     "name": "stdout",
     "output_type": "stream",
     "text": [
      "(58, 19) (15, 19) (58,) (15,)\n"
     ]
    }
   ],
   "source": [
    "X_train_pca, X_test_pca, y_train, y_test = train_test_split(data_pca,y,train_size=0.8,test_size=0.2,random_state=0)\n",
    "print(X_train_pca.shape, X_test_pca.shape, y_train.shape, y_test.shape)"
   ]
  },
  {
   "cell_type": "code",
   "execution_count": 817,
   "metadata": {},
   "outputs": [
    {
     "data": {
      "text/plain": [
       "0.7333333333333333"
      ]
     },
     "execution_count": 817,
     "metadata": {},
     "output_type": "execute_result"
    }
   ],
   "source": [
    "model = LogisticRegression(solver='liblinear',penalty='l1',random_state=0)\n",
    "model.fit(X_train_pca, y_train)\n",
    "model.score(X_test_pca, y_test)"
   ]
  },
  {
   "cell_type": "code",
   "execution_count": 818,
   "metadata": {},
   "outputs": [
    {
     "name": "stdout",
     "output_type": "stream",
     "text": [
      "Best hyperparameters:  {'C': 0.001, 'gamma': 0.001}\n",
      "Best score:  0.6028571428571429\n"
     ]
    }
   ],
   "source": [
    "from sklearn import svm\n",
    "from sklearn.model_selection import GridSearchCV\n",
    "import numpy as np\n",
    "\n",
    "# Define the SVM model\n",
    "model = svm.SVC()\n",
    "\n",
    "# Define the parameter grid for GridSearchCV\n",
    "param_grid = {'C': np.logspace(-3, 3, 7), 'gamma': np.logspace(-3, 3, 7)}\n",
    "\n",
    "# Perform GridSearchCV to find the best hyperparameters\n",
    "grid_search = GridSearchCV(model, param_grid=param_grid, cv=5)\n",
    "grid_search.fit(X, y)\n",
    "\n",
    "# Print the best hyperparameters\n",
    "print(\"Best hyperparameters: \", grid_search.best_params_)\n",
    "\n",
    "# Print the best score\n",
    "print(\"Best score: \", grid_search.best_score_)\n"
   ]
  },
  {
   "cell_type": "code",
   "execution_count": 819,
   "metadata": {},
   "outputs": [
    {
     "name": "stdout",
     "output_type": "stream",
     "text": [
      "Accuracy: 0.6\n"
     ]
    }
   ],
   "source": [
    "from sklearn.svm import SVC\n",
    "# Create an SVM object\n",
    "svm = SVC(kernel='poly', C=0.001,gamma=0.001)\n",
    "\n",
    "# Train the SVM model\n",
    "svm.fit(X_train, y_train)\n",
    "\n",
    "# Predict the labels of the test set\n",
    "y_pred = svm.predict(X_test)\n",
    "\n",
    "# Calculate the accuracy of the model\n",
    "accuracy = accuracy_score(y_test, y_pred)\n",
    "\n",
    "# Print the accuracy score\n",
    "print('Accuracy:', accuracy)"
   ]
  }
 ],
 "metadata": {
  "kernelspec": {
   "display_name": "Python 3 (ipykernel)",
   "language": "python",
   "name": "python3"
  },
  "language_info": {
   "codemirror_mode": {
    "name": "ipython",
    "version": 3
   },
   "file_extension": ".py",
   "mimetype": "text/x-python",
   "name": "python",
   "nbconvert_exporter": "python",
   "pygments_lexer": "ipython3",
   "version": "3.9.12"
  }
 },
 "nbformat": 4,
 "nbformat_minor": 2
}
